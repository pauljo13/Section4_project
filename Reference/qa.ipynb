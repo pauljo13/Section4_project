{
 "cells": [
  {
   "attachments": {},
   "cell_type": "markdown",
   "metadata": {},
   "source": [
    "# 웹 크롤링\n",
    "### Beautifulsoup vs selenium\n",
    "- bs = 정적(안움직이는 거)\n",
    "- sel = 동적(움직이는 거->봇)\n",
    "    - 마우스, 키보드 동작이 필요한 것"
   ]
  },
  {
   "cell_type": "code",
   "execution_count": null,
   "metadata": {},
   "outputs": [],
   "source": [
    "import requests\n",
    "from bs4 import BeautifulSoup\n",
    "\n",
    "page = requests.get(주소)\n",
    "soup = BeautifulSoup(page.content, 'html.parser')\n"
   ]
  },
  {
   "attachments": {},
   "cell_type": "markdown",
   "metadata": {},
   "source": [
    "### select vs find\n",
    "- select : 셀렉터를 활용\n",
    "    - select : list로 저장\n",
    "    - select_one \n",
    "- find : 태크를 활용\n",
    "    - find\n",
    "    - find_all : 리스트로 저장"
   ]
  },
  {
   "cell_type": "code",
   "execution_count": null,
   "metadata": {},
   "outputs": [],
   "source": [
    "ranking = soup.select_one('#a > b > c > d > u1')\n",
    "ranking.find_all('c')"
   ]
  },
  {
   "cell_type": "code",
   "execution_count": null,
   "metadata": {},
   "outputs": [],
   "source": [
    "for i in ranking.find_all('c'):\n",
    "    print(i.text)"
   ]
  },
  {
   "attachments": {},
   "cell_type": "markdown",
   "metadata": {},
   "source": [
    "## Selenium"
   ]
  },
  {
   "cell_type": "code",
   "execution_count": null,
   "metadata": {},
   "outputs": [],
   "source": []
  },
  {
   "attachments": {},
   "cell_type": "markdown",
   "metadata": {},
   "source": [
    "# 이미지 딥러닝\n",
    "이미지를 업로드 -> 처리 -> 보여줌\n",
    "app.config['이미지 업로드 경로]\n",
    "app.config['input']\n",
    "app.config['output']\n",
    "\n",
    "파일 선택, 업로드, 결과 3개의 버튼\n"
   ]
  },
  {
   "attachments": {},
   "cell_type": "markdown",
   "metadata": {},
   "source": [
    "# DB\n",
    "csv -> "
   ]
  },
  {
   "cell_type": "code",
   "execution_count": null,
   "metadata": {},
   "outputs": [],
   "source": [
    "import psycopg2\n",
    "\n",
    "class DB:\n",
    "    def __init__(self):\n",
    "        conn = psycopg2.connect(\n",
    "            dbname='postgres',\n",
    "            user='',\n",
    "            password='',\n",
    "            host='',\n",
    "            port=5432\n",
    "        )\n",
    "        print(\"\")\n",
    "        conn.autocommit =True\n",
    "        cuser = conn.cursor()\n",
    "\n",
    "        try:\n",
    "            print() #쿼리가 동작하는 부분\n",
    "        except:\n",
    "            print() #에러 발생시\n",
    "        finally:\n",
    "            print() #cursor,connet\n",
    "    \n",
    "    def create_table(self):\n",
    "        '''\n",
    "        SQL\n",
    "        '''\n",
    "    def read :\n",
    "        query = '''\n",
    "        SELECT sum(numbackends) FROM pg_stat_database;\n",
    "        '''\n",
    "\n"
   ]
  },
  {
   "cell_type": "code",
   "execution_count": null,
   "metadata": {},
   "outputs": [],
   "source": [
    "import sqlite3\n",
    "import pandas as pd\n",
    "\n",
    "conn = sqlite3.connect('test.db')\n",
    "df = pd.read_csv('csv')\n",
    "\n",
    "df.to_sql('제목', conn, if_exists='fail')\n",
    "cur = conn.cursor()\n",
    "query = 'SELECT * FROM 제목'\n",
    "result = cur.execute(query).fetchall()\n",
    "print(result)"
   ]
  },
  {
   "attachments": {},
   "cell_type": "markdown",
   "metadata": {},
   "source": []
  }
 ],
 "metadata": {
  "kernelspec": {
   "display_name": "project",
   "language": "python",
   "name": "python3"
  },
  "language_info": {
   "codemirror_mode": {
    "name": "ipython",
    "version": 3
   },
   "file_extension": ".py",
   "mimetype": "text/x-python",
   "name": "python",
   "nbconvert_exporter": "python",
   "pygments_lexer": "ipython3",
   "version": "3.8.16"
  },
  "orig_nbformat": 4
 },
 "nbformat": 4,
 "nbformat_minor": 2
}
