{
 "cells": [
  {
   "attachments": {},
   "cell_type": "markdown",
   "metadata": {},
   "source": [
    "# 웹 크롤링\n",
    "### Beautifulsoup vs selenium\n",
    "- bs = 정적(안움직이는 거)\n",
    "- sel = 동적(움직이는 거->봇)\n",
    "    - 마우스, 키보드 동작이 필요한 것"
   ]
  },
  {
   "cell_type": "code",
   "execution_count": null,
   "metadata": {},
   "outputs": [],
   "source": [
    "import requests\n",
    "from bs4 import BeautifulSoup\n",
    "\n",
    "page = requests.get(주소)\n",
    "soup = BeautifulSoup(page.content, 'html.parser')\n"
   ]
  },
  {
   "attachments": {},
   "cell_type": "markdown",
   "metadata": {},
   "source": [
    "### select vs find\n",
    "- select : 셀렉터를 활용\n",
    "    - select : list로 저장\n",
    "    - select_one \n",
    "- find : 태크를 활용\n",
    "    - find\n",
    "    - find_all : 리스트로 저장"
   ]
  },
  {
   "cell_type": "code",
   "execution_count": null,
   "metadata": {},
   "outputs": [],
   "source": [
    "ranking = soup.select_one('#a > b > c > d > u1')\n",
    "ranking.find_all('c')"
   ]
  },
  {
   "cell_type": "code",
   "execution_count": null,
   "metadata": {},
   "outputs": [],
   "source": [
    "for i in ranking.find_all('c'):\n",
    "    print(i.text)"
   ]
  },
  {
   "attachments": {},
   "cell_type": "markdown",
   "metadata": {},
   "source": [
    "# 이미지 딥러닝\n",
    "이미지를 업로드 -> 처리 -> 보여줌\n",
    "app.config['이미지 업로드 경로]\n",
    "app.config['input']\n",
    "app.config['output']\n",
    "\n",
    "파일 선택, 업로드, 결과 3개의 버튼\n"
   ]
  }
 ],
 "metadata": {
  "kernelspec": {
   "display_name": "project",
   "language": "python",
   "name": "python3"
  },
  "language_info": {
   "codemirror_mode": {
    "name": "ipython",
    "version": 3
   },
   "file_extension": ".py",
   "mimetype": "text/x-python",
   "name": "python",
   "nbconvert_exporter": "python",
   "pygments_lexer": "ipython3",
   "version": "3.8.16"
  },
  "orig_nbformat": 4
 },
 "nbformat": 4,
 "nbformat_minor": 2
}
